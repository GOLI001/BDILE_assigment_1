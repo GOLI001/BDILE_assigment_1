{
 "cells": [
  {
   "cell_type": "markdown",
   "id": "f68e8b58-8a03-4582-adab-3d80d605c208",
   "metadata": {},
   "source": [
    "# Big Data in Law Enforcement"
   ]
  },
  {
   "cell_type": "markdown",
   "id": "76dcd0be-ce38-4f56-b517-52c91d178e5f",
   "metadata": {},
   "source": [
    "## Introduction"
   ]
  },
  {
   "cell_type": "markdown",
   "id": "a26185f2-3d7d-4ddd-8970-8d5d7cb47e18",
   "metadata": {},
   "source": [
    "Big Data and Cyber Security play crucial roles in modern law enforcement. Big Data helps law enforcement agencies analyze vast amounts of information to make informed decisions."
   ]
  },
  {
   "cell_type": "markdown",
   "id": "4e48437b-77eb-459e-aa9c-7a7d39ccbf21",
   "metadata": {},
   "source": [
    "*Some of the popular languages that Data Scientists use are:*\n",
    "1. Python\n",
    "2. R\n",
    "3. SQL"
   ]
  },
  {
   "cell_type": "markdown",
   "id": "29307afe-2ead-48ac-9642-673ade2c462a",
   "metadata": {},
   "source": [
    "*Some of the commonly used libraries used by Data Scientists include:*\n",
    "- Pandas\n",
    "- NumPy\n",
    "- Scikit-Learn\n"
   ]
  },
  {
   "cell_type": "markdown",
   "id": "ae4f4e98-7b89-4ff7-811b-94b4cacf7dc5",
   "metadata": {},
   "source": [
    "| Data Science Tools |\n",
    "| ------------------- |\n",
    "| Apache Spark        |\n",
    "| Jupyter Notebooks   |\n",
    "| Hadoop              |\n"
   ]
  },
  {
   "cell_type": "markdown",
   "id": "2c49bf5f-3897-4da4-87a1-68b27f59d7eb",
   "metadata": {},
   "source": [
    "### Below are a few examples of evaluating arithmetic expressions in Python."
   ]
  },
  {
   "cell_type": "code",
   "execution_count": 1,
   "id": "ddca39be-6c97-4f8f-9c7a-7295d52ed54f",
   "metadata": {},
   "outputs": [
    {
     "data": {
      "text/plain": [
       "33"
      ]
     },
     "execution_count": 1,
     "metadata": {},
     "output_type": "execute_result"
    }
   ],
   "source": [
    "# This is a simple arithmetic expression\n",
    "result = (4 * 6) + 9\n",
    "result\n"
   ]
  },
  {
   "cell_type": "code",
   "execution_count": 2,
   "id": "80bfa063-35cf-4975-9db2-174c61c4fde8",
   "metadata": {},
   "outputs": [
    {
     "data": {
      "text/plain": [
       "5.0"
      ]
     },
     "execution_count": 2,
     "metadata": {},
     "output_type": "execute_result"
    }
   ],
   "source": [
    "# This will convert 300 minutes to hours by dividing by 60\n",
    "minutes = 300\n",
    "hours = minutes / 60\n",
    "hours\n"
   ]
  },
  {
   "cell_type": "markdown",
   "id": "d9ed0de8-ce45-4c05-b0f3-de7f25adca2a",
   "metadata": {},
   "source": [
    "**Objectives:**\n",
    "- List of popular languages for Data Science.\n",
    "- Introduction to key Data Science libraries.\n",
    "- Introduction to Data Science tools.\n"
   ]
  },
  {
   "cell_type": "markdown",
   "id": "6e0374b2-5bb1-4fd8-8d82-5883749f7ab5",
   "metadata": {},
   "source": [
    "## Autor\n",
    "Galymzhan Akhmadi"
   ]
  },
  {
   "cell_type": "code",
   "execution_count": null,
   "id": "16666c4b-c3a8-4bfc-a15f-e4924210c14e",
   "metadata": {},
   "outputs": [],
   "source": []
  }
 ],
 "metadata": {
  "kernelspec": {
   "display_name": "Python 3 (ipykernel)",
   "language": "python",
   "name": "python3"
  },
  "language_info": {
   "codemirror_mode": {
    "name": "ipython",
    "version": 3
   },
   "file_extension": ".py",
   "mimetype": "text/x-python",
   "name": "python",
   "nbconvert_exporter": "python",
   "pygments_lexer": "ipython3",
   "version": "3.8.17"
  }
 },
 "nbformat": 4,
 "nbformat_minor": 5
}
